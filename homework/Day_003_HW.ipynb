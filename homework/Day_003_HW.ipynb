{
 "cells": [
  {
   "cell_type": "markdown",
   "metadata": {},
   "source": [
    "## [作業目標]\n",
    "持續接觸有關機器學習的相關專案與最新技術"
   ]
  },
  {
   "cell_type": "markdown",
   "metadata": {},
   "source": [
    "## [作業重點]\n",
    "透過觀察頂尖公司的機器學習文章，來了解各公司是怎麼應用機器學習在實際的專案上"
   ]
  },
  {
   "cell_type": "markdown",
   "metadata": {},
   "source": [
    "## [作業]\n",
    "今天的作業希望大家能夠看看全球機器學習巨頭們在做的機器學習專案。以 google 為例，下圖是 Google 內部專案使用機器學習的數量，隨著時間進展，現在早已超過 2000 個專案在使用機器學習。"
   ]
  },
  {
   "cell_type": "markdown",
   "metadata": {},
   "source": [
    "![image](https://cdn-images-1.medium.com/max/800/1*U_L8qI8RmYS-MOBrYvXhSA.png)"
   ]
  },
  {
   "cell_type": "markdown",
   "metadata": {},
   "source": [
    "底下幫同學整理幾間知名企業的 blog 或機器學習網站 (自行搜尋也可)，這些網站都會整理最新的機器學習專案或者是技術文章，請挑選一篇文章閱讀並試著回答\n",
    "1. 專案的目標？ (要解決什麼問題）\n",
    "2. 使用的技術是？ (只需知道名稱即可，例如：使用 CNN 卷積神經網路做影像分類)\n",
    "3. 資料來源？ "
   ]
  },
  {
   "cell_type": "markdown",
   "metadata": {},
   "source": [
    "- [Google AI blog](https://ai.googleblog.com/)\n",
    "- [Facebook Research blog](https://research.fb.com/blog/)\n",
    "- [Apple machine learning journal](https://machinelearning.apple.com/)\n",
    "- [機器之心](https://www.jiqizhixin.com/)\n",
    "- [雷鋒網](http://www.leiphone.com/category/ai)"
   ]
  },
  {
   "cell_type": "markdown",
   "metadata": {},
   "source": [
    "# [作業回答]\n",
    "\n",
    "1. 專案的目標？ \n",
    "2. 使用的技術是？\n",
    "目標：將老軍人的照片用 AI 技術進行照片的修復，包括找出照片的缺陷、修復缺陷以及將圖案上色。\n",
    "\n",
    "訓找缺陷\n",
    "\n",
    "    - 預測對象（target）：找出照片中缺限相關的像素值\n",
    "    - 預測變項（predictor）：照片缺陷標記的蒙版\n",
    "    - 技術：使用unet和預訓練編輯器，將BCE（binary cross-entropy）與DICE（Sørensen–Dice coefficient）的和最小化，其中增加BCE中的積極內權重。使用卷積網路。\n",
    "    - 訓練集（tarining set）：自行拍照片並將照片上隨機增加紋理造成缺陷，得到有缺陷的圖像部分蒙版\n",
    "    - 驗證集（validation set）：\n",
    "    - 測試集（test set）:\n",
    " \n",
    "圖像修復\n",
    "\n",
    "    - 預測對象（target）：照片中缺限部分\n",
    "    - 預測變項（predictor）：沒有缺陷的部分\n",
    "    - 技術：Unet網路＋部分卷積\n",
    "    - 訓練集（tarining set）：\n",
    "    - 驗證集（validation set）：\n",
    "    - 測試集（test set）:\n",
    "\n",
    "著色\n",
    "\n",
    "    - 預測對象（target）：老照片黑白像素還原顏色，使用YCbCr標色，其中要預測的是Cb和Cr值\n",
    "    - 預測變項（predictor）：原有的黑白像素的中亮度Y\n",
    "    - 技術：Unet網路 （AlbuNet-50 with L1 + GAN）\n",
    "    - 訓練集（tarining set）：The Workers’ and Peasants’ Red Army 提供二戰時期軍裝的彩色照片，以及自然風景照\n",
    "\n",
    "\n",
    "\n",
    "3. 資料來源？\n",
    "雷鋒字幕組（2019）。這些老照片如何用算法修復？\n",
    "網址：https://www.leiphone.com/news/201908/3fQyZMYWUStrqLh2.html"
   ]
  }
 ],
 "metadata": {
  "kernelspec": {
   "display_name": "Python 3",
   "language": "python",
   "name": "python3"
  },
  "language_info": {
   "codemirror_mode": {
    "name": "ipython",
    "version": 3
   },
   "file_extension": ".py",
   "mimetype": "text/x-python",
   "name": "python",
   "nbconvert_exporter": "python",
   "pygments_lexer": "ipython3",
   "version": "3.7.3"
  }
 },
 "nbformat": 4,
 "nbformat_minor": 2
}
