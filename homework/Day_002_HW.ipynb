{
 "cells": [
  {
   "cell_type": "markdown",
   "metadata": {},
   "source": [
    "## [作業目標]\n",
    "了解機器學習適合應用的領域與範疇。"
   ]
  },
  {
   "cell_type": "markdown",
   "metadata": {},
   "source": [
    "## [作業重點]\n",
    "透過瞭解機器學習的運作方式，找出非常適用機器學習應用的領域及其原因"
   ]
  },
  {
   "cell_type": "markdown",
   "metadata": {},
   "source": [
    "## 作業\n",
    "請找出一個你認為機器學習可以發光發熱的領域並闡述原因? "
   ]
  },
  {
   "cell_type": "markdown",
   "metadata": {},
   "source": [
    "目前機器學習的表現都不遜於人類，然而關鍵在於我們在這樣的情境中，幫機器選擇適當的模型，同時要有大量的資料讓它能自行學習使得表現跟人一樣好，勝制是超越人類許多。首先我們能知道的事當訓練資料數量不夠充分時，機器是很難會有舉一反三的能力，因此，機器學習會很適合在資料量充足的情況，學習如何做預測、分類...等行為。\n",
    "以監督式學習例來說，如果我們今天有成千上萬的動物照片且有標記好正確的種類名稱的話，接下來我們設定好 function sets，機器會自動的、不會勞累地選出一個最好的模型出來，以達到最佳模型預估。也就是說當我們只要丟進一張動物照片，他就能告述我們他的動物名字是什麼。"
   ]
  }
 ],
 "metadata": {
  "kernelspec": {
   "display_name": "Python 3",
   "language": "python",
   "name": "python3"
  },
  "language_info": {
   "codemirror_mode": {
    "name": "ipython",
    "version": 3
   },
   "file_extension": ".py",
   "mimetype": "text/x-python",
   "name": "python",
   "nbconvert_exporter": "python",
   "pygments_lexer": "ipython3",
   "version": "3.7.3"
  }
 },
 "nbformat": 4,
 "nbformat_minor": 2
}
